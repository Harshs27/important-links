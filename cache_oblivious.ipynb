{
 "cells": [
  {
   "cell_type": "markdown",
   "metadata": {},
   "source": [
    "## Cache oblivious matrix multiplication"
   ]
  },
  {
   "cell_type": "code",
   "execution_count": 1,
   "metadata": {
    "collapsed": true
   },
   "outputs": [],
   "source": [
    "import numpy as np \n",
    "# we'll try to implement the recursive matrix multiplication"
   ]
  },
  {
   "cell_type": "code",
   "execution_count": 165,
   "metadata": {
    "collapsed": false
   },
   "outputs": [
    {
     "name": "stdout",
     "output_type": "stream",
     "text": [
      "13\n"
     ]
    }
   ],
   "source": [
    "def fib(n):\n",
    "    if n==0 or n==1:\n",
    "        return n\n",
    "    else:\n",
    "        return fib(n-1)+fib(n-2)\n",
    "    \n",
    "print(fib(7))"
   ]
  },
  {
   "cell_type": "code",
   "execution_count": 85,
   "metadata": {
    "collapsed": true
   },
   "outputs": [],
   "source": [
    "A = np.array([[1,2,3], [4,5,6], [7,8,9]])\n",
    "B = np.array([[1,2,3], [4,5,6], [7,8,9]])"
   ]
  },
  {
   "cell_type": "code",
   "execution_count": 86,
   "metadata": {
    "collapsed": false
   },
   "outputs": [
    {
     "name": "stdout",
     "output_type": "stream",
     "text": [
      "[[ 30  36  42]\n",
      " [ 66  81  96]\n",
      " [102 126 150]] [[1 2 3]\n",
      " [4 5 6]]\n"
     ]
    }
   ],
   "source": [
    "C = np.matmul(A, B)\n",
    "print(C, A[0:2, :])"
   ]
  },
  {
   "cell_type": "code",
   "execution_count": 87,
   "metadata": {
    "collapsed": false
   },
   "outputs": [
    {
     "name": "stdout",
     "output_type": "stream",
     "text": [
      "[[ 0.  0.  0.]\n",
      " [ 0.  0.  0.]\n",
      " [ 0.  0.  0.]] 3 3 3\n"
     ]
    }
   ],
   "source": [
    "[m, n] = np.shape(A)\n",
    "[n, p] = np.shape(B)\n",
    "C = np.zeros((m, p))\n",
    "print(C, m, n, p)"
   ]
  },
  {
   "cell_type": "code",
   "execution_count": 108,
   "metadata": {
    "collapsed": false
   },
   "outputs": [],
   "source": [
    "def mat_mul(A, B, C): # dividing the `m'\n",
    "    m, n = np.shape(A)\n",
    "    _, p = np.shape(B)\n",
    "    if m==1: # do the vector multiplication \n",
    "        print(A, B, C)\n",
    "        for i in range(p):\n",
    "            for j in range(n):\n",
    "                C[0][i] += A[0][j]*B[j][i]\n",
    "        return\n",
    "    else:\n",
    "        mat_mul(A[0:int(m/2), :], B, C[0:int(m/2), :])\n",
    "        mat_mul(A[int(m/2):, :], B, C[int(m/2):, :])"
   ]
  },
  {
   "cell_type": "code",
   "execution_count": 109,
   "metadata": {
    "collapsed": false
   },
   "outputs": [
    {
     "name": "stdout",
     "output_type": "stream",
     "text": [
      "[[1 2 3]] [[1 2 3]\n",
      " [4 5 6]\n",
      " [7 8 9]] [[ 30.  36.  42.]]\n",
      "[[4 5 6]] [[1 2 3]\n",
      " [4 5 6]\n",
      " [7 8 9]] [[ 66.  81.  96.]]\n",
      "[[7 8 9]] [[1 2 3]\n",
      " [4 5 6]\n",
      " [7 8 9]] [[ 102.  126.  150.]]\n"
     ]
    }
   ],
   "source": [
    "mat_mul(A, B, C)"
   ]
  },
  {
   "cell_type": "code",
   "execution_count": 110,
   "metadata": {
    "collapsed": false
   },
   "outputs": [
    {
     "name": "stdout",
     "output_type": "stream",
     "text": [
      "[[  60.   72.   84.]\n",
      " [ 132.  162.  192.]\n",
      " [ 204.  252.  300.]]\n"
     ]
    }
   ],
   "source": [
    "print(C)\n",
    "C = np.zeros((m, p))"
   ]
  },
  {
   "cell_type": "code",
   "execution_count": 111,
   "metadata": {
    "collapsed": true
   },
   "outputs": [],
   "source": [
    "# Dividing the N\n",
    "def mat_mul2(A, B):\n",
    "    m, n = np.shape(A)\n",
    "    _, p = np.shape(B)\n",
    "    print(m, n, p)\n",
    "    if n == 1:\n",
    "        print(A, B)\n",
    "        C = np.zeros((3, 3))\n",
    "        print(C)\n",
    "#        C = np.matmul(A, B)\n",
    "        for i in range(m):\n",
    "            for j in range(p):\n",
    "                C[i][j] = A[i][0]*B[0][j]\n",
    "        return C\n",
    "    else:\n",
    "        return mat_mul2(A[:, 0:int(n/2)], B[0:int(n/2), :])+mat_mul2(A[:, int(n/2):], B[int(n/2):, :])"
   ]
  },
  {
   "cell_type": "code",
   "execution_count": 112,
   "metadata": {
    "collapsed": false
   },
   "outputs": [
    {
     "name": "stdout",
     "output_type": "stream",
     "text": [
      "3 3 3\n",
      "3 1 3\n",
      "[[1]\n",
      " [4]\n",
      " [7]] [[1 2 3]]\n",
      "[[ 0.  0.  0.]\n",
      " [ 0.  0.  0.]\n",
      " [ 0.  0.  0.]]\n",
      "3 2 3\n",
      "3 1 3\n",
      "[[2]\n",
      " [5]\n",
      " [8]] [[4 5 6]]\n",
      "[[ 0.  0.  0.]\n",
      " [ 0.  0.  0.]\n",
      " [ 0.  0.  0.]]\n",
      "3 1 3\n",
      "[[3]\n",
      " [6]\n",
      " [9]] [[7 8 9]]\n",
      "[[ 0.  0.  0.]\n",
      " [ 0.  0.  0.]\n",
      " [ 0.  0.  0.]]\n"
     ]
    }
   ],
   "source": [
    "C = mat_mul2(A, B)"
   ]
  },
  {
   "cell_type": "code",
   "execution_count": 113,
   "metadata": {
    "collapsed": false
   },
   "outputs": [
    {
     "name": "stdout",
     "output_type": "stream",
     "text": [
      "[[  30.   36.   42.]\n",
      " [  66.   81.   96.]\n",
      " [ 102.  126.  150.]]\n"
     ]
    }
   ],
   "source": [
    "print(C)"
   ]
  },
  {
   "cell_type": "markdown",
   "metadata": {},
   "source": [
    "## Complete recursive implementation of matrix multiplication"
   ]
  },
  {
   "cell_type": "code",
   "execution_count": null,
   "metadata": {
    "collapsed": true
   },
   "outputs": [],
   "source": [
    "    print('a')\n",
    "    print(A)\n",
    "    print('b')\n",
    "    print(B)\n",
    "    print('c')\n",
    "    print(C)"
   ]
  },
  {
   "cell_type": "code",
   "execution_count": 221,
   "metadata": {
    "collapsed": false
   },
   "outputs": [],
   "source": [
    "# for square matrices\n",
    "def recursive_mat_wrong(A, B, C):\n",
    "    m, n = np.shape(A)\n",
    "    _, p = np.shape(B)\n",
    "    print(m, n, p)\n",
    "    if m==1 and n==1 and p==1:\n",
    "        print(A, B[0], C[0][0])\n",
    "#        C[0][0] += A[0][0]*B[0][0]\n",
    "#        return C[0][0]\n",
    "        return A[0][0]*B[0][0]\n",
    "    else:\n",
    "        \n",
    "        C[0:int(m/2), 0:int(p/2)] = (recursive_mat(A[0:int(m/2), 0:int(n/2)], B[0:int(n/2), 0:int(p/2)], C[0:int(m/2), 0:int(p/2)]) \n",
    "                                 + recursive_mat(A[0:int(m/2), int(n/2):], B[int(n/2):, 0:int(p/2)], C[0:int(m/2), 0:int(p/2)] ))\n",
    "        \n",
    "        C[0:int(m/2), int(p/2):] = (recursive_mat(A[0:int(m/2), 0:int(n/2)], B[0:int(n/2), int(p/2):], C[0:int(m/2), int(p/2):]) \n",
    "                                 + recursive_mat(A[0:int(m/2), int(n/2):], B[int(n/2):, int(p/2):], C[0:int(m/2), int(p/2):] ))\n",
    "        \n",
    "        C[int(m/2):, 0:int(p/2)] = (recursive_mat(A[int(m/2):, 0:int(n/2)], B[0:int(n/2), 0:int(p/2)], C[int(m/2):, 0:int(p/2)]) \n",
    "                                 + recursive_mat(A[int(m/2):, int(n/2):], B[int(n/2):, 0:int(p/2)], C[int(m/2):, 0:int(p/2)] ))\n",
    "        \n",
    "        C[int(m/2):, int(p/2):] = (recursive_mat(A[int(m/2):, 0:int(n/2)], B[0:int(n/2), int(p/2):], C[int(m/2):, int(p/2):]) \n",
    "                                 + recursive_mat(A[int(m/2):, int(n/2):], B[int(n/2):, int(p/2):], C[int(m/2):, int(p/2):] ))\n",
    "        return C"
   ]
  },
  {
   "cell_type": "code",
   "execution_count": 232,
   "metadata": {
    "collapsed": true
   },
   "outputs": [],
   "source": [
    "# for power of 2 square matrices\n",
    "def recursive_mat(A, B):\n",
    "    m, n = np.shape(A)\n",
    "    _, p = np.shape(B)\n",
    "    if m==1 and n==1 and p==1:\n",
    "#        print(A, B[0])\n",
    "#        C[0][0] += A[0][0]*B[0][0]\n",
    "#        return C[0][0]\n",
    "        return A[0][0]*B[0][0]\n",
    "    else:\n",
    "        C = np.zeros((m, p))\n",
    "        C[0:int(m/2), 0:int(p/2)] = (recursive_mat(A[0:int(m/2), 0:int(n/2)], B[0:int(n/2), 0:int(p/2)],) \n",
    "                                 + recursive_mat(A[0:int(m/2), int(n/2):], B[int(n/2):, 0:int(p/2)]))\n",
    "        \n",
    "        C[0:int(m/2), int(p/2):] = (recursive_mat(A[0:int(m/2), 0:int(n/2)], B[0:int(n/2), int(p/2):]) \n",
    "                                 + recursive_mat(A[0:int(m/2), int(n/2):], B[int(n/2):, int(p/2):] ))\n",
    "        \n",
    "        C[int(m/2):, 0:int(p/2)] = (recursive_mat(A[int(m/2):, 0:int(n/2)], B[0:int(n/2), 0:int(p/2)]) \n",
    "                                 + recursive_mat(A[int(m/2):, int(n/2):], B[int(n/2):, 0:int(p/2)]))\n",
    "        \n",
    "        C[int(m/2):, int(p/2):] = (recursive_mat(A[int(m/2):, 0:int(n/2)], B[0:int(n/2), int(p/2):]) \n",
    "                                 + recursive_mat(A[int(m/2):, int(n/2):], B[int(n/2):, int(p/2):] ))\n",
    "        return C"
   ]
  },
  {
   "cell_type": "code",
   "execution_count": 233,
   "metadata": {
    "collapsed": false
   },
   "outputs": [
    {
     "name": "stdout",
     "output_type": "stream",
     "text": [
      "[[  30.   36.   42.    0.]\n",
      " [  66.   81.   96.    0.]\n",
      " [ 102.  126.  150.    0.]\n",
      " [  13.   16.   19.    1.]]\n",
      "actual\n",
      "[[ 30  36  42   0]\n",
      " [ 66  81  96   0]\n",
      " [102 126 150   0]\n",
      " [ 13  16  19   1]]\n"
     ]
    }
   ],
   "source": [
    "A = np.array([[1,2], [3,4]])\n",
    "B = np.array([[5,6], [7,8]])\n",
    "X = 0\n",
    "A = np.array([[1,2,3,0], [4,5,6,0], [7,8,9,0], [1,1,1,1]])\n",
    "B = np.array([[1,2,3,0], [4,5,6,0], [7,8,9,0], [1,1,1,1]])\n",
    "\n",
    "m, n = np.shape(A)\n",
    "#C = np.zeros((m, n))\n",
    "C = recursive_mat(A, B)\n",
    "print(C)\n",
    "print('actual')\n",
    "print(np.matmul(A, B))"
   ]
  },
  {
   "cell_type": "code",
   "execution_count": 234,
   "metadata": {
    "collapsed": false
   },
   "outputs": [
    {
     "data": {
      "text/plain": [
       "3"
      ]
     },
     "execution_count": 234,
     "metadata": {},
     "output_type": "execute_result"
    }
   ],
   "source": [
    "max(2, 3)"
   ]
  },
  {
   "cell_type": "code",
   "execution_count": 167,
   "metadata": {
    "collapsed": false
   },
   "outputs": [
    {
     "data": {
      "text/plain": [
       "array([[ 2,  4,  6,  0],\n",
       "       [ 8, 10, 12,  0],\n",
       "       [14, 16, 18,  0],\n",
       "       [ 2,  2,  2,  2]])"
      ]
     },
     "execution_count": 167,
     "metadata": {},
     "output_type": "execute_result"
    }
   ],
   "source": [
    "A+A"
   ]
  },
  {
   "cell_type": "markdown",
   "metadata": {},
   "source": [
    "# Cache oblivious for rectangular matrices"
   ]
  },
  {
   "cell_type": "code",
   "execution_count": 235,
   "metadata": {
    "collapsed": true
   },
   "outputs": [],
   "source": [
    "def rect_mul(A, B):\n",
    "    m, n = np.shape(A)\n",
    "    n1, p = np.shape(B)\n",
    "    if(n1!=n):\n",
    "        print('abort!')\n",
    "        return -1\n",
    "    if m==1 and n==1 and p==1:\n",
    "        return A[0][0]*B[0][0]\n",
    "    else:\n",
    "        #3 cases\n",
    "        C = np.zeros((m, p)) # temporary matrix\n",
    "        if m >= max(n, p):\n",
    "            C[0:m/2, :] = rect_mul(A[0:m/2, :], B) \n",
    "            C[m/2:, :] = rect_mul(A[m/2:, :], B)\n",
    "        elif n>=max(m, p):\n",
    "            C = rect_mul(A[:, 0:n/2], B[0:n/2, :]) + rect_mul(A[:, n/2:], B[n/2:, :])\n",
    "        elif p>=max(m, n):\n",
    "            C[:, 0:p/2] = rect_mul(A, B[:, 0:p/2])\n",
    "            C[:, p/2:] = rect_mul(A, B[:, p/2:])\n",
    "        return C"
   ]
  },
  {
   "cell_type": "code",
   "execution_count": 237,
   "metadata": {
    "collapsed": false
   },
   "outputs": [
    {
     "name": "stdout",
     "output_type": "stream",
     "text": [
      "[[  30.   36.   42.]\n",
      " [  66.   81.   96.]\n",
      " [ 102.  126.  150.]\n",
      " [ 102.  126.  150.]]\n",
      "actual\n",
      "[[ 30  36  42]\n",
      " [ 66  81  96]\n",
      " [102 126 150]\n",
      " [102 126 150]]\n"
     ]
    },
    {
     "name": "stderr",
     "output_type": "stream",
     "text": [
      "C:\\Users\\Harsh\\Anaconda3\\lib\\site-packages\\ipykernel\\__main__.py:13: VisibleDeprecationWarning: using a non-integer number instead of an integer will result in an error in the future\n",
      "C:\\Users\\Harsh\\Anaconda3\\lib\\site-packages\\ipykernel\\__main__.py:16: VisibleDeprecationWarning: using a non-integer number instead of an integer will result in an error in the future\n",
      "C:\\Users\\Harsh\\Anaconda3\\lib\\site-packages\\ipykernel\\__main__.py:18: VisibleDeprecationWarning: using a non-integer number instead of an integer will result in an error in the future\n",
      "C:\\Users\\Harsh\\Anaconda3\\lib\\site-packages\\ipykernel\\__main__.py:14: VisibleDeprecationWarning: using a non-integer number instead of an integer will result in an error in the future\n",
      "C:\\Users\\Harsh\\Anaconda3\\lib\\site-packages\\ipykernel\\__main__.py:19: VisibleDeprecationWarning: using a non-integer number instead of an integer will result in an error in the future\n"
     ]
    }
   ],
   "source": [
    "A = np.array([[1,2,3], [4,5,6], [7,8,9], [7,8,9]])\n",
    "B = np.array([[1,2,3], [4,5,6], [7,8,9]])\n",
    "C = rect_mul(A, B)\n",
    "print(C)\n",
    "print('actual')\n",
    "print(np.matmul(A, B))"
   ]
  },
  {
   "cell_type": "code",
   "execution_count": null,
   "metadata": {
    "collapsed": true
   },
   "outputs": [],
   "source": []
  }
 ],
 "metadata": {
  "kernelspec": {
   "display_name": "Python 3",
   "language": "python",
   "name": "python3"
  },
  "language_info": {
   "codemirror_mode": {
    "name": "ipython",
    "version": 3
   },
   "file_extension": ".py",
   "mimetype": "text/x-python",
   "name": "python",
   "nbconvert_exporter": "python",
   "pygments_lexer": "ipython3",
   "version": "3.6.0"
  }
 },
 "nbformat": 4,
 "nbformat_minor": 2
}
